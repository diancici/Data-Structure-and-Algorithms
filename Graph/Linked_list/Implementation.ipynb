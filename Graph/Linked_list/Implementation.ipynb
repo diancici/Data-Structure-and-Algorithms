{
 "cells": [
  {
   "cell_type": "markdown",
   "metadata": {},
   "source": [
    "# Single linked list implementation"
   ]
  },
  {
   "cell_type": "code",
   "execution_count": 4,
   "metadata": {},
   "outputs": [],
   "source": [
    "class Node:\n",
    "    def __init__(self, data):\n",
    "        self.data = data\n",
    "        self.next = None\n",
    "\n",
    "class LinkedList:\n",
    "    def __init__(self):\n",
    "        self.head = None\n",
    "        \n",
    "    def isEmpty(self):\n",
    "        return self.head == None\n",
    "    \n",
    "    def append(self, val):\n",
    "        newNode = Node(val)\n",
    "        temp = self.head\n",
    "        while (temp.next != None):\n",
    "            temp = temp.next\n",
    "        temp.next = newNode\n",
    "            \n",
    "    def appendLeft(self, val):\n",
    "        temp = Node(val)\n",
    "        temp.next = self.head\n",
    "        self.head = temp\n",
    "    \n",
    "    def size(self):\n",
    "        temp = self.head\n",
    "        count = 0\n",
    "        while temp != None:\n",
    "            temp = temp.next\n",
    "            count += 1\n",
    "        return count\n",
    "    \n",
    "    def search(self, val):\n",
    "        temp = self.head\n",
    "        found = False\n",
    "        while temp != None and not found:\n",
    "            if temp.data == val:\n",
    "                found = True\n",
    "            else:\n",
    "                temp = temp.next\n",
    "        return found\n",
    "        \n",
    "    # Insertion a node\n",
    "    def insertNode(self, val, pos):\n",
    "        target = Node(val)\n",
    "        if(pos == 0):\n",
    "            target.next = self.head\n",
    "            self.head = target\n",
    "            return\n",
    "        \n",
    "        def getPrev(pos):\n",
    "            temp = self.head\n",
    "            temp_pos = 0\n",
    "            while(temp_pos < pos-1):\n",
    "                temp = temp.next\n",
    "                temp_pos += 1       \n",
    "            return temp\n",
    "        \n",
    "        \n",
    "        prev_node = getPrev(pos)\n",
    "        next_node = prev_node.next\n",
    "        target.next = next_node\n",
    "        prev_node.next = target   \n",
    "        \n",
    "    # Delete a node\n",
    "    def deleteNode(self, val):          \n",
    "        if (val == self.head.data):\n",
    "            self.head = self.head.next\n",
    "            \n",
    "        temp = self.head\n",
    "        \n",
    "        while (temp.next.data != val):\n",
    "            temp = temp.next\n",
    "        \n",
    "        target = temp.next\n",
    "        temp.next = target.next\n",
    "       \n",
    "    def traversal(self, node):\n",
    "        if node is not None:\n",
    "            print(node.data)\n",
    "            self.traversal(node.next)\n",
    "        \n",
    "        \n",
    "        "
   ]
  },
  {
   "cell_type": "code",
   "execution_count": 10,
   "metadata": {},
   "outputs": [
    {
     "name": "stdout",
     "output_type": "stream",
     "text": [
      "True\n",
      "4\n",
      "5\n",
      "1\n",
      "3\n",
      "7\n",
      "The size of linked list is : 5\n",
      "False\n"
     ]
    }
   ],
   "source": [
    "# Create a linked list\n",
    "linked_list = LinkedList()\n",
    "print(linked_list.isEmpty())\n",
    "\n",
    "# Node structure: 7=>3=>1=>5=>4 \n",
    "root = Node(4)\n",
    "linked_list.head = root\n",
    "linked_list.append(5)\n",
    "linked_list.append(1)\n",
    "linked_list.append(3)\n",
    "linked_list.append(7)\n",
    "\n",
    "linked_list.traversal(root)\n",
    "\n",
    "# Size of the linked list\n",
    "print(\"The size of linked list is :\",linked_list.size())\n",
    "\n",
    "# Search a node \n",
    "print(linked_list.search(8))"
   ]
  },
  {
   "cell_type": "code",
   "execution_count": 11,
   "metadata": {},
   "outputs": [
    {
     "name": "stdout",
     "output_type": "stream",
     "text": [
      "4\n",
      "5\n",
      "1\n",
      "7\n"
     ]
    }
   ],
   "source": [
    "# Delete a node\n",
    "linked_list.deleteNode(3)\n",
    "linked_list.traversal(root)"
   ]
  },
  {
   "cell_type": "markdown",
   "metadata": {},
   "source": [
    "# Double linked list implementation"
   ]
  },
  {
   "cell_type": "code",
   "execution_count": 12,
   "metadata": {},
   "outputs": [],
   "source": [
    "class Node:\n",
    "    def __init__(self, data):\n",
    "        self.data = data\n",
    "        self.prev = None\n",
    "        self.next = None\n",
    "\n",
    "class DLinkedList:\n",
    "    def __init__(self):\n",
    "        self.head = None\n",
    "    \n",
    "    # Create a double linked list with the input is an array\n",
    "    def createList(self, arr):\n",
    "        temp = self.head\n",
    "        i = 0        \n",
    "        while(i < len(arr)):\n",
    "            newNode = Node(arr[i])\n",
    "            if i == 0:\n",
    "                self.head = newNode\n",
    "            else:\n",
    "                temp.next = newNode\n",
    "                newNode.prev = temp\n",
    "            temp = newNode \n",
    "            i+=1\n",
    "            \n",
    "        return self.head\n",
    "    \n",
    "    # Length of the linked list\n",
    "    def lengthList(self):\n",
    "        temp = self.head\n",
    "        count = 0\n",
    "        while(temp):\n",
    "            temp = temp.next\n",
    "            count += 1\n",
    "        return count\n",
    "    \n",
    "    # Insert an element in the current linked list, index starts from 0\n",
    "    def insertNode(self, val, index):\n",
    "        temp = self.head\n",
    "        newNode = Node(val)\n",
    "        length = self.lengthList()\n",
    "        \n",
    "        # index exceeds the length of list + 1\n",
    "        if (index > length):\n",
    "            return self.head\n",
    "\n",
    "        # insert at the head\n",
    "        if (index == 0):\n",
    "            newNode.next = self.head\n",
    "            self.head.prev = newNode\n",
    "            self.head = newNode\n",
    "            return self.head\n",
    "        \n",
    "        # insert at the tail of linked list\n",
    "        if (index == length):\n",
    "            while(temp.next is not None):\n",
    "                temp = temp.next\n",
    "                \n",
    "            temp.next = newNode\n",
    "            newNode.prev = temp\n",
    "            return self.head\n",
    "        \n",
    "        # general case : insert index between 0-length\n",
    "        i = 0\n",
    "        while(i < index-1):\n",
    "            temp = temp.next\n",
    "            i += 1\n",
    "        \n",
    "        nextNode = temp.next\n",
    "        newNode.next = nextNode\n",
    "        nextNode.prev = newNode\n",
    "        \n",
    "        temp.next = newNode\n",
    "        newNode.prev = temp\n",
    "        \n",
    "        return self.head\n",
    "    \n",
    "    # delete an element at a index\n",
    "    def deleteNode(self, index):\n",
    "        length = self.lengthList()\n",
    "        temp = self.head\n",
    "        \n",
    "        if(index > length - 1):\n",
    "            return self.head\n",
    "        \n",
    "        if(index == 0):\n",
    "            temp = temp.next\n",
    "            self.head = temp\n",
    "            return self.head\n",
    "        \n",
    "        if(index == length-1):\n",
    "            while(temp.next.next is not None):\n",
    "                temp = temp.next\n",
    "            temp.next = None\n",
    "            return self.head\n",
    "        \n",
    "        # general case: index is between 0 and length-1\n",
    "        i = 0\n",
    "        while(i<index-1):\n",
    "            temp = temp.next\n",
    "            i+=1\n",
    "            \n",
    "        nextNode = temp.next.next\n",
    "        temp.next = nextNode\n",
    "        nextNode.prev = temp\n",
    "        \n",
    "        return self.head\n",
    "        \n",
    "        \n",
    "    \n",
    "    # Print the current linked list\n",
    "    def printList(self):\n",
    "        linked_list = []\n",
    "        temp = self.head\n",
    "        while(temp):\n",
    "            linked_list.append(temp.data)\n",
    "            temp = temp.next\n",
    "        print(linked_list)\n",
    "        "
   ]
  },
  {
   "cell_type": "code",
   "execution_count": 13,
   "metadata": {},
   "outputs": [
    {
     "name": "stdout",
     "output_type": "stream",
     "text": [
      "[5, 3, 7, 1]\n"
     ]
    }
   ],
   "source": [
    "# Create a double linked list\n",
    "dlinked_list = DLinkedList()\n",
    "arr = [5,3,7,1]\n",
    "dlinked_list.createList(arr)\n",
    "dlinked_list.printList()"
   ]
  },
  {
   "cell_type": "code",
   "execution_count": 14,
   "metadata": {},
   "outputs": [
    {
     "name": "stdout",
     "output_type": "stream",
     "text": [
      "[5, 3, 7, 4, 1]\n"
     ]
    }
   ],
   "source": [
    "# insert an element\n",
    "dlinked_list.insertNode(4,3)\n",
    "dlinked_list.printList()"
   ]
  },
  {
   "cell_type": "code",
   "execution_count": 16,
   "metadata": {},
   "outputs": [
    {
     "name": "stdout",
     "output_type": "stream",
     "text": [
      "[3, 4, 1]\n"
     ]
    }
   ],
   "source": [
    "# Delete an element\n",
    "dlinked_list.deleteNode(0)\n",
    "dlinked_list.printList()"
   ]
  },
  {
   "cell_type": "code",
   "execution_count": 17,
   "metadata": {},
   "outputs": [
    {
     "name": "stdout",
     "output_type": "stream",
     "text": [
      "[5, 3, 4, 1]\n"
     ]
    }
   ],
   "source": [
    "dlinked_list.insertNode(5,0)\n",
    "dlinked_list.printList()"
   ]
  }
 ],
 "metadata": {
  "kernelspec": {
   "display_name": "Python 3",
   "language": "python",
   "name": "python3"
  },
  "language_info": {
   "codemirror_mode": {
    "name": "ipython",
    "version": 3
   },
   "file_extension": ".py",
   "mimetype": "text/x-python",
   "name": "python",
   "nbconvert_exporter": "python",
   "pygments_lexer": "ipython3",
   "version": "3.7.6"
  }
 },
 "nbformat": 4,
 "nbformat_minor": 4
}
