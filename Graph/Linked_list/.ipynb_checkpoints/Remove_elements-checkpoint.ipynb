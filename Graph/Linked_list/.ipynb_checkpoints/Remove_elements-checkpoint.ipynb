{
 "cells": [
  {
   "cell_type": "markdown",
   "metadata": {},
   "source": [
    "# leetcode 19. Remove Nth Node From End of List"
   ]
  },
  {
   "cell_type": "markdown",
   "metadata": {},
   "source": [
    "Solution 1: Two pass\n",
    "\n",
    "O(n) in time, O(1) in space"
   ]
  },
  {
   "cell_type": "code",
   "execution_count": null,
   "metadata": {},
   "outputs": [],
   "source": [
    "# Definition for singly-linked list.\n",
    "class ListNode:\n",
    "     def __init__(self, val=0, next=None):\n",
    "        self.val = val\n",
    "        self.next = next\n",
    "        \n",
    "class Solution:\n",
    "    def removeNthFromEnd(self, head, n):\n",
    "        # First pass : Find the length of list\n",
    "        p = head\n",
    "        length = 0\n",
    "        while(p):\n",
    "            p = p.next\n",
    "            length += 1\n",
    "        \n",
    "        # Second Pass : Find the element to be deleted\n",
    "        q = ListNode()\n",
    "        ans = q\n",
    "        q.next = head\n",
    "        count = 0        \n",
    "        while(count < length - n):\n",
    "            q = q.next\n",
    "            count += 1\n",
    "        # remove the element\n",
    "        q.next = q.next.next        \n",
    "        \n",
    "        return ans.next"
   ]
  },
  {
   "cell_type": "markdown",
   "metadata": {},
   "source": [
    "Solution 2: One pass using Two-pointer technique\n",
    "\n",
    "O(n) in time and O(1) in space"
   ]
  },
  {
   "cell_type": "code",
   "execution_count": null,
   "metadata": {},
   "outputs": [],
   "source": [
    "# Definition for singly-linked list.\n",
    "class ListNode:\n",
    "     def __init__(self, val=0, next=None):\n",
    "        self.val = val\n",
    "        self.next = next\n",
    "        \n",
    "class Solution:\n",
    "    def removeNthFromEnd(self, head, n):\n",
    "        ans = ListNode()\n",
    "        ans.next = head\n",
    "        \n",
    "        slow = ans\n",
    "        fast = ans\n",
    "        \n",
    "        # Move the fast pointer n nodes ahead\n",
    "        for i in range(n+1):\n",
    "            fast = fast.next\n",
    "            \n",
    "        while(fast):\n",
    "            fast = fast.next\n",
    "            slow = slow.next\n",
    "            \n",
    "        # Delete the slow.next\n",
    "        slow.next = slow.next.next\n",
    "        \n",
    "        return ans.next"
   ]
  },
  {
   "cell_type": "markdown",
   "metadata": {},
   "source": [
    "# Leetcode 203. Remove Linked List Elements"
   ]
  },
  {
   "cell_type": "code",
   "execution_count": null,
   "metadata": {},
   "outputs": [],
   "source": [
    "# Definition for singly-linked list.\n",
    "# class ListNode:\n",
    "#     def __init__(self, val=0, next=None):\n",
    "#         self.val = val\n",
    "#         self.next = next\n",
    "class Solution:\n",
    "    def removeElements(self, head: ListNode, val: int) -> ListNode:\n",
    "        if head is None:\n",
    "            return head\n",
    "        \n",
    "        # create a pointer to save previous node\n",
    "        prev = Lisnode()\n",
    "        prev.next = head\n",
    "        ans = prev\n",
    "        cur = head\n",
    "        \n",
    "        while(cur):\n",
    "            if cur.val == val:\n",
    "                prev.next = cur.next\n",
    "            else:\n",
    "                prev = prev.next\n",
    "            cur = cur.next\n",
    "        \n",
    "        return ans.next"
   ]
  }
 ],
 "metadata": {
  "kernelspec": {
   "display_name": "Python 3",
   "language": "python",
   "name": "python3"
  },
  "language_info": {
   "codemirror_mode": {
    "name": "ipython",
    "version": 3
   },
   "file_extension": ".py",
   "mimetype": "text/x-python",
   "name": "python",
   "nbconvert_exporter": "python",
   "pygments_lexer": "ipython3",
   "version": "3.7.6"
  }
 },
 "nbformat": 4,
 "nbformat_minor": 4
}
