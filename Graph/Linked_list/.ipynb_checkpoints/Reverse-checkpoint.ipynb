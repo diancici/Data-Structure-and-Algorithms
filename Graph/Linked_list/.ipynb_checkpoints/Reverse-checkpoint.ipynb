{
 "cells": [
  {
   "cell_type": "markdown",
   "metadata": {},
   "source": [
    "# Reverse Linked List by recursion"
   ]
  },
  {
   "cell_type": "markdown",
   "metadata": {},
   "source": [
    "Leetcode #206. Reverse Linked List"
   ]
  },
  {
   "cell_type": "code",
   "execution_count": 2,
   "metadata": {},
   "outputs": [],
   "source": [
    "# Iteration\n",
    "# Definition for singly-linked list.\n",
    "class ListNode:\n",
    "     def __init__(self, val=0, next=None):\n",
    "        self.val = val\n",
    "        self.next = next\n",
    "class Solution:\n",
    "    def reverseList(self, head: ListNode) -> ListNode:\n",
    "        prev = None\n",
    "        cur = head\n",
    "        while(cur is not None):\n",
    "            nextNode = cur.next\n",
    "            cur.next = prev\n",
    "            prev = cur\n",
    "            cur = nextNode\n",
    "        return prev"
   ]
  },
  {
   "cell_type": "code",
   "execution_count": 3,
   "metadata": {},
   "outputs": [],
   "source": [
    "# Definition for singly-linked list.\n",
    "class ListNode:\n",
    "    def __init__(self, val=0, next=None):\n",
    "        self.val = val\n",
    "        self.next = next\n",
    "class Solution:\n",
    "    def reverseList(self, head: ListNode) -> ListNode:\n",
    "        if (head is None or head.next is None):\n",
    "            return head\n",
    "        \n",
    "        lastNode = self.reverseList(head.next) # return the new head of reversed linked list\n",
    "        head.next.next = head\n",
    "        head.next = None\n",
    "        \n",
    "        return lastNode"
   ]
  },
  {
   "cell_type": "markdown",
   "metadata": {},
   "source": [
    "Leedcode #92. Reverse Linked List II\n",
    "\n",
    "Reverse a linked list from position m to n. (Do it in one-pass)"
   ]
  },
  {
   "cell_type": "code",
   "execution_count": null,
   "metadata": {},
   "outputs": [],
   "source": [
    "# Definition for singly-linked list.\n",
    "class ListNode:\n",
    "     def __init__(self, val=0, next=None):\n",
    "        self.val = val\n",
    "        self.next = next\n",
    "\n",
    "class Solution:\n",
    "    def reverseBetween(self, head: ListNode, m: int, n: int) -> ListNode:\n",
    "        # base case: reverse from head to n\n",
    "        if m==1:\n",
    "            return self.reverseN(head, n)\n",
    "        \n",
    "        # the most important part of this recursion: imaging that head is moving forward\n",
    "        last = self.reverseBetween(head.next, m-1, n-1)\n",
    "        \n",
    "        head.next = last\n",
    "        return head\n",
    "    \n",
    "    # Reverse the first n elements\n",
    "    def reverseN(self, head, n):\n",
    "        # base case\n",
    "        if(n==1):\n",
    "            self.successor = head.next # record trailing node\n",
    "            return head\n",
    "        last = self.reverseN(head.next, n-1)\n",
    "        head.next.next = head\n",
    "        head.next = self.successor\n",
    "        \n",
    "        return last\n",
    "        "
   ]
  }
 ],
 "metadata": {
  "kernelspec": {
   "display_name": "Python 3",
   "language": "python",
   "name": "python3"
  },
  "language_info": {
   "codemirror_mode": {
    "name": "ipython",
    "version": 3
   },
   "file_extension": ".py",
   "mimetype": "text/x-python",
   "name": "python",
   "nbconvert_exporter": "python",
   "pygments_lexer": "ipython3",
   "version": "3.7.6"
  }
 },
 "nbformat": 4,
 "nbformat_minor": 4
}
