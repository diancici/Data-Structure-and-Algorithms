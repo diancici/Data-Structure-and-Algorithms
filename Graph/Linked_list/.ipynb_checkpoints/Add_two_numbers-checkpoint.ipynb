{
 "cells": [
  {
   "cell_type": "markdown",
   "metadata": {},
   "source": [
    "# Leetcode 2. Add Two Numbers"
   ]
  },
  {
   "cell_type": "code",
   "execution_count": null,
   "metadata": {},
   "outputs": [],
   "source": [
    "class ListNode:\n",
    "    def __init__(self, val=0, next=None):\n",
    "        self.val = val\n",
    "        self.next = next\n",
    "        \n",
    "class Solution:\n",
    "    def addTwoNumbers(self, l1, l2):\n",
    "        curNode = ListNode\n",
    "        count = 0\n",
    "        # save the head node of the result\n",
    "        newHead = curNode\n",
    "        \n",
    "        while(l1 or l2):\n",
    "            Sum = 0\n",
    "            if(l1):\n",
    "                Sum += l1.val\n",
    "                l1 = l1.next\n",
    "            if(l2):\n",
    "                Sum += l2.val\n",
    "                l2 = l2.next\n",
    "            \n",
    "            Sum += count\n",
    "            \n",
    "            # Create the next Node\n",
    "            curNode.next = ListNode(Sum%10)\n",
    "            curNode = curNode.next\n",
    "            \n",
    "            # Update the count\n",
    "            count = Sum//10\n",
    "            \n",
    "        if(count):\n",
    "            curNode.next = ListNode(count)   \n",
    "        \n",
    "        return newHead.next"
   ]
  }
 ],
 "metadata": {
  "kernelspec": {
   "display_name": "Python 3",
   "language": "python",
   "name": "python3"
  },
  "language_info": {
   "codemirror_mode": {
    "name": "ipython",
    "version": 3
   },
   "file_extension": ".py",
   "mimetype": "text/x-python",
   "name": "python",
   "nbconvert_exporter": "python",
   "pygments_lexer": "ipython3",
   "version": "3.7.6"
  }
 },
 "nbformat": 4,
 "nbformat_minor": 4
}
