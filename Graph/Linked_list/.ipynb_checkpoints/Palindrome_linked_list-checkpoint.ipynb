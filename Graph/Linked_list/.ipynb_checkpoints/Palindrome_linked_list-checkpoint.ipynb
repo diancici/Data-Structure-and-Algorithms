{
 "cells": [
  {
   "cell_type": "markdown",
   "metadata": {},
   "source": [
    "# leetcode 234. Palindrome Linked List"
   ]
  },
  {
   "cell_type": "markdown",
   "metadata": {},
   "source": [
    "Solution 1: O(n) time and O(n) space\n",
    "\n",
    "Way1: Create a new list which is the reversed old one and compare\n",
    "\n",
    "Way2: Post-order traversal using the recursion stack to save the node"
   ]
  },
  {
   "cell_type": "code",
   "execution_count": null,
   "metadata": {},
   "outputs": [],
   "source": [
    "class Solution:\n",
    "    def isPalindrome(self, head):\n",
    "        if head is None or head.next is None:\n",
    "            return True\n",
    "        \n",
    "        self.left = head\n",
    "        return self.traverse(head)\n",
    "        \n",
    "    def traverse(self, right):\n",
    "        # basic case\n",
    "        if right==None: \n",
    "            return True\n",
    "        # recursion\n",
    "        res = self.traverse(right.next)\n",
    "        res = res and right.val == self.left.val\n",
    "        self.left = self.left.next\n",
    "        return res"
   ]
  },
  {
   "cell_type": "markdown",
   "metadata": {},
   "source": [
    "Solution 2: Optimize,  O(n) time and O(1) space\n",
    "1. Find the midpoint using two-pointer technique\n",
    "2. Reverse the right half to save space\n",
    "3. Compare the left half with right half"
   ]
  },
  {
   "cell_type": "code",
   "execution_count": null,
   "metadata": {},
   "outputs": [],
   "source": [
    "class Solution:\n",
    "    def isPalindrome(self, head):\n",
    "        if head is None or head.next is None:\n",
    "            return True\n",
    "        \n",
    "        # Find the mid point using two-pointer technique\n",
    "        slow = head\n",
    "        fast = head\n",
    "        while(fast and fast.next):\n",
    "            slow = slow.next\n",
    "            fast = fast.next\n",
    "        # Move the slow pointer to the right part if length of list is odd\n",
    "        if(fast is not None):\n",
    "            slow = slow.next\n",
    "            \n",
    "        # reverse the right part of the linked list, from slow to the end\n",
    "        right = self.reverse(slow)\n",
    "        left = head\n",
    "        \n",
    "        # compare the left part and the reversed right part \n",
    "        while(right):\n",
    "            if(left.val != right.val):\n",
    "                return False\n",
    "            left = left.next\n",
    "            right = right.next\n",
    "            \n",
    "        return True\n",
    "    \n",
    "    # reverse linked list\n",
    "    def reverse(self, head):\n",
    "        if head.next is None:\n",
    "            return head\n",
    "        prev = None\n",
    "        cur = head\n",
    "        while(cur):\n",
    "            nextNode = cur.next\n",
    "            cur.next = prev\n",
    "            prev = cur\n",
    "            cur = nextNode\n",
    "        return prev"
   ]
  }
 ],
 "metadata": {
  "kernelspec": {
   "display_name": "Python 3",
   "language": "python",
   "name": "python3"
  },
  "language_info": {
   "codemirror_mode": {
    "name": "ipython",
    "version": 3
   },
   "file_extension": ".py",
   "mimetype": "text/x-python",
   "name": "python",
   "nbconvert_exporter": "python",
   "pygments_lexer": "ipython3",
   "version": "3.7.6"
  }
 },
 "nbformat": 4,
 "nbformat_minor": 4
}
