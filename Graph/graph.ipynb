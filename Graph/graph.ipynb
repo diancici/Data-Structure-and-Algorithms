{
 "cells": [
  {
   "cell_type": "markdown",
   "metadata": {},
   "source": [
    "# Directed Graph"
   ]
  },
  {
   "cell_type": "markdown",
   "metadata": {},
   "source": [
    "# Adjacency list"
   ]
  },
  {
   "cell_type": "code",
   "execution_count": 1,
   "metadata": {},
   "outputs": [],
   "source": [
    "from collections import defaultdict\n",
    "class Graph:\n",
    "    def __init__(self):\n",
    "        self.graph = defaultdict(list) # Node1: [Node2, Node3]\n",
    "        \n",
    "    # Add a relation/an edge between two nodes node1 -> node2\n",
    "    def insertEdge(self, v1, v2):\n",
    "        self.graph[v1].append(v2)\n",
    "        #self.graph[v2].append(v1) # undirected graph implementation\n",
    "        \n",
    "    # Print the graph\n",
    "    def printGraph(self):\n",
    "        for k, v in self.graph.items():\n",
    "            print(k, '->', *v)"
   ]
  },
  {
   "cell_type": "code",
   "execution_count": 2,
   "metadata": {},
   "outputs": [
    {
     "name": "stdout",
     "output_type": "stream",
     "text": [
      "1 -> 5\n",
      "5 -> 2\n",
      "2 -> 7\n",
      "7 -> 1\n"
     ]
    }
   ],
   "source": [
    "g = Graph()\n",
    "# Create 1->5->2->7->1\n",
    "g.insertEdge(1,5)\n",
    "g.insertEdge(5,2)\n",
    "g.insertEdge(2,7)\n",
    "g.insertEdge(7,1)\n",
    "\n",
    "g.printGraph()"
   ]
  },
  {
   "cell_type": "markdown",
   "metadata": {},
   "source": [
    "# Adjacency Matrix"
   ]
  },
  {
   "cell_type": "code",
   "execution_count": 44,
   "metadata": {},
   "outputs": [],
   "source": [
    "class Graph:\n",
    "    def __init__(self, numberOfNodes):\n",
    "        self.numberOfNodes = numberOfNodes + 1\n",
    "        self.graph = [[0 for x in range(self.numberOfNodes)] \n",
    "                      for y in range(self.numberOfNodes)]\n",
    "        \n",
    "     # check if node exceed the limit of the graph matrix   \n",
    "    def withInBound(self, v1, v2):\n",
    "        return (v1>=0 and v1 < self.numberOfNodes) and (v2 >=0 and v2 < self.numberOfNodes)\n",
    "    \n",
    "    def insertEdge(self, v1, v2):\n",
    "        if (self.withInBound(v1,v2)):\n",
    "            self.graph[v1][v2] = 1\n",
    "            #self.graph[v2][v1] = 1 # undirected graph implementation\n",
    "            \n",
    "    def printGraph(self):\n",
    "        for i in range(self.numberOfNodes):\n",
    "            for j in range(self.numberOfNodes):\n",
    "                if(self.graph[i][j]):\n",
    "                    print(i,\"->\",j)\n"
   ]
  },
  {
   "cell_type": "code",
   "execution_count": 45,
   "metadata": {},
   "outputs": [
    {
     "name": "stdout",
     "output_type": "stream",
     "text": [
      "1 -> 2\n",
      "2 -> 1\n",
      "2 -> 3\n",
      "3 -> 2\n",
      "4 -> 5\n",
      "5 -> 4\n"
     ]
    }
   ],
   "source": [
    "g = Graph(5)\n",
    "g.insertEdge(1,2)\n",
    "g.insertEdge(2,3)\n",
    "g.insertEdge(4,5)\n",
    "g.printGraph()"
   ]
  },
  {
   "cell_type": "code",
   "execution_count": null,
   "metadata": {},
   "outputs": [],
   "source": []
  }
 ],
 "metadata": {
  "kernelspec": {
   "display_name": "Python 3",
   "language": "python",
   "name": "python3"
  },
  "language_info": {
   "codemirror_mode": {
    "name": "ipython",
    "version": 3
   },
   "file_extension": ".py",
   "mimetype": "text/x-python",
   "name": "python",
   "nbconvert_exporter": "python",
   "pygments_lexer": "ipython3",
   "version": "3.7.6"
  }
 },
 "nbformat": 4,
 "nbformat_minor": 4
}
