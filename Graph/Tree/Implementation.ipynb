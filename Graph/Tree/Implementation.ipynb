{
 "cells": [
  {
   "cell_type": "markdown",
   "metadata": {},
   "source": [
    "# Binary Tree"
   ]
  },
  {
   "cell_type": "code",
   "execution_count": 1,
   "metadata": {},
   "outputs": [],
   "source": [
    "class Node:\n",
    "    def __init__(self, value):\n",
    "        self.data = value\n",
    "        self.left = None\n",
    "        self.right = None"
   ]
  },
  {
   "cell_type": "code",
   "execution_count": 2,
   "metadata": {},
   "outputs": [],
   "source": [
    "root = Node(10)\n",
    "root.left = Node(20)\n",
    "root.right = Node(12)\n",
    "root.left.left = Node(3)\n",
    "root.left.right = Node(8)"
   ]
  },
  {
   "cell_type": "markdown",
   "metadata": {},
   "source": [
    "# In-order traversal"
   ]
  },
  {
   "cell_type": "code",
   "execution_count": 3,
   "metadata": {},
   "outputs": [],
   "source": [
    "def inorder(node):\n",
    "    if (node is not None):\n",
    "        inorder(node.left)\n",
    "        print(node.data)\n",
    "        inorder(node.right)"
   ]
  },
  {
   "cell_type": "code",
   "execution_count": 4,
   "metadata": {},
   "outputs": [
    {
     "name": "stdout",
     "output_type": "stream",
     "text": [
      "3\n",
      "20\n",
      "8\n",
      "10\n",
      "12\n"
     ]
    }
   ],
   "source": [
    "inorder(root)"
   ]
  },
  {
   "cell_type": "markdown",
   "metadata": {},
   "source": [
    "# Pre-order traversal"
   ]
  },
  {
   "cell_type": "code",
   "execution_count": null,
   "metadata": {},
   "outputs": [],
   "source": [
    "def preorder(node):\n",
    "    if(node is not None):\n",
    "        print(node.data)\n",
    "        preorder(node.left)\n",
    "        preorder(node.right)"
   ]
  },
  {
   "cell_type": "code",
   "execution_count": null,
   "metadata": {},
   "outputs": [],
   "source": [
    "preorder(root)"
   ]
  },
  {
   "cell_type": "markdown",
   "metadata": {},
   "source": [
    "# Post-order traversal"
   ]
  },
  {
   "cell_type": "code",
   "execution_count": null,
   "metadata": {},
   "outputs": [],
   "source": [
    "def preorder(node):\n",
    "    if(node is not None):\n",
    "        preorder(node.left)\n",
    "        preorder(node.right)\n",
    "        print(node.data)"
   ]
  },
  {
   "cell_type": "code",
   "execution_count": null,
   "metadata": {},
   "outputs": [],
   "source": [
    "preorder(root)"
   ]
  },
  {
   "cell_type": "markdown",
   "metadata": {},
   "source": [
    "# Binary Search Tree"
   ]
  },
  {
   "cell_type": "markdown",
   "metadata": {},
   "source": [
    "Insert implementation"
   ]
  },
  {
   "cell_type": "code",
   "execution_count": 8,
   "metadata": {},
   "outputs": [],
   "source": [
    "class Node:\n",
    "    def __init__(self, value):\n",
    "        self.data = value\n",
    "        self.left = None\n",
    "        self.right = None\n",
    "\n",
    "def insert(root, node):\n",
    "    if(root is None):\n",
    "        root = node\n",
    "        return root\n",
    "    \n",
    "    elif(root.data < node.data):\n",
    "        if root.right is None:\n",
    "            root.right = node\n",
    "        else:\n",
    "            insert(root.right, node)\n",
    "    \n",
    "    else:\n",
    "        if root.left is None:\n",
    "            root.left = node\n",
    "        else:\n",
    "            insert(root.left, node)\n",
    "            \n",
    "def preorder(node):\n",
    "    if(node is not None):\n",
    "        print(node.data)\n",
    "        preorder(node.left)\n",
    "        preorder(node.right)"
   ]
  },
  {
   "cell_type": "code",
   "execution_count": 9,
   "metadata": {},
   "outputs": [
    {
     "name": "stdout",
     "output_type": "stream",
     "text": [
      "5\n",
      "3\n",
      "2\n",
      "4\n",
      "7\n",
      "6\n",
      "8\n"
     ]
    }
   ],
   "source": [
    "tree = Node(5)\n",
    "insert(tree, Node(3))\n",
    "insert(tree, Node(2))\n",
    "insert(tree, Node(7))\n",
    "insert(tree, Node(4))\n",
    "insert(tree, Node(6))\n",
    "insert(tree, Node(8))\n",
    "\n",
    "preorder(tree)"
   ]
  },
  {
   "cell_type": "markdown",
   "metadata": {},
   "source": [
    "Search a certain node"
   ]
  },
  {
   "cell_type": "code",
   "execution_count": 10,
   "metadata": {},
   "outputs": [],
   "source": [
    "       \n",
    "def search(node, target):\n",
    "    print(\"Current Node is: \", node.data)\n",
    "    \n",
    "    if(node is None):\n",
    "        print(\"No node found\")\n",
    "        return None\n",
    "    \n",
    "    if node.data == target:\n",
    "        print(\"Node found!\")\n",
    "        return node\n",
    "    \n",
    "    elif (node.data < target):\n",
    "        search(node.right, target)\n",
    "    \n",
    "    elif (node.data > target):\n",
    "        search(node.left, target)\n",
    "    \n",
    "        "
   ]
  },
  {
   "cell_type": "code",
   "execution_count": 11,
   "metadata": {},
   "outputs": [
    {
     "name": "stdout",
     "output_type": "stream",
     "text": [
      "Current Node is:  5\n",
      "Current Node is:  3\n",
      "Current Node is:  4\n",
      "Node found!\n"
     ]
    }
   ],
   "source": [
    "search(tree, 4)"
   ]
  },
  {
   "cell_type": "markdown",
   "metadata": {},
   "source": [
    "Delete a certain node"
   ]
  },
  {
   "cell_type": "code",
   "execution_count": 52,
   "metadata": {
    "slideshow": {
     "slide_type": "-"
    }
   },
   "outputs": [],
   "source": [
    "def delete(node, key):\n",
    "    if (node is None):\n",
    "        return None\n",
    "    \n",
    "    # find the position of node which has the key value\n",
    "    if (node.data < key):\n",
    "        node.right = delete(node.right, key)\n",
    "        \n",
    "    elif (node.data > key):\n",
    "        node.left = delete(node.left, key)\n",
    "        \n",
    "    else:\n",
    "        # node has no child or has one child\n",
    "        if (node.left is None):\n",
    "            temp = node.right\n",
    "            node = None\n",
    "            return temp\n",
    "        \n",
    "        elif (node.right is None):\n",
    "            temp = node.left\n",
    "            node = temp\n",
    "            return temp\n",
    "        \n",
    "        # node has two children : find the minimum node of the right subtree\n",
    "        else:\n",
    "            temp = minimum(node.right)\n",
    "            node.data = temp.data #replace node.data\n",
    "            node.right = delete(node.right, temp.data) # modify node.right\n",
    "            \n",
    "    return node\n",
    "\n",
    "            \n",
    "\n",
    "def minimum(node):\n",
    "    while(node.left is not None):\n",
    "        node = node.left\n",
    "    return node"
   ]
  },
  {
   "cell_type": "code",
   "execution_count": 53,
   "metadata": {},
   "outputs": [
    {
     "name": "stdout",
     "output_type": "stream",
     "text": [
      "5\n",
      "3\n",
      "2\n",
      "4\n",
      "8\n",
      "6\n"
     ]
    }
   ],
   "source": [
    "delete(tree,7)\n",
    "preorder(tree)"
   ]
  },
  {
   "cell_type": "code",
   "execution_count": null,
   "metadata": {},
   "outputs": [],
   "source": []
  }
 ],
 "metadata": {
  "kernelspec": {
   "display_name": "Python 3",
   "language": "python",
   "name": "python3"
  },
  "language_info": {
   "codemirror_mode": {
    "name": "ipython",
    "version": 3
   },
   "file_extension": ".py",
   "mimetype": "text/x-python",
   "name": "python",
   "nbconvert_exporter": "python",
   "pygments_lexer": "ipython3",
   "version": "3.7.6"
  }
 },
 "nbformat": 4,
 "nbformat_minor": 4
}
