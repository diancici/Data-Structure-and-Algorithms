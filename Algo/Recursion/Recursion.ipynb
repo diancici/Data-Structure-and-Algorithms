{
 "cells": [
  {
   "cell_type": "markdown",
   "metadata": {},
   "source": [
    "Write two functions that finds the factorial of any number. One should use recursive, the other use the loop"
   ]
  },
  {
   "cell_type": "code",
   "execution_count": 1,
   "metadata": {},
   "outputs": [],
   "source": [
    "def findFactorialIter(number):\n",
    "    factorial = 1\n",
    "    for i in range(1,number+1):\n",
    "        factorial *= i\n",
    "    return factorial\n",
    "        "
   ]
  },
  {
   "cell_type": "code",
   "execution_count": 3,
   "metadata": {},
   "outputs": [],
   "source": [
    "def findFactorialRecur(number):\n",
    "    if(number <= 1):\n",
    "        return number\n",
    "    return number*findFactorialRecur(number-1)"
   ]
  },
  {
   "cell_type": "markdown",
   "metadata": {},
   "source": [
    "Fibonacci sequence : Given a number N, return the index value of the Fibonacci sequence, where the sequence is :\n",
    "0,1,1,2,3,5,8,13,21,..."
   ]
  },
  {
   "cell_type": "code",
   "execution_count": 8,
   "metadata": {},
   "outputs": [],
   "source": [
    "def fibonacciInterative(n):\n",
    "    fibonacci = [0]*(n+1)\n",
    "    fibonacci[0] = 0\n",
    "    fibonacci[1] = 1\n",
    "    if n<=1:\n",
    "        return fibonacci[n]\n",
    "    for i in range(2,n+1):\n",
    "        fibonacci[i] = fibonacci[i-1]+fibonacci[i-2]\n",
    "        \n",
    "    return fibonacci[n]\n",
    "    "
   ]
  },
  {
   "cell_type": "code",
   "execution_count": 20,
   "metadata": {},
   "outputs": [],
   "source": [
    "def fibonacciRecur(n):\n",
    "    if n < 2:\n",
    "        return n\n",
    "    \n",
    "    return fibonacciRecur(n-1)+fibonacciRecur(n-2)"
   ]
  },
  {
   "cell_type": "markdown",
   "metadata": {},
   "source": [
    "Implement a function that reverses a string using iteration...and then recursion!"
   ]
  },
  {
   "cell_type": "code",
   "execution_count": 24,
   "metadata": {},
   "outputs": [],
   "source": [
    "def reverseIter(s):\n",
    "    a = \"\"\n",
    "    for i in range(len(s)-1,-1,-1):\n",
    "        a += s[i]\n",
    "    return a"
   ]
  },
  {
   "cell_type": "code",
   "execution_count": 25,
   "metadata": {},
   "outputs": [
    {
     "data": {
      "text/plain": [
       "'olleh'"
      ]
     },
     "execution_count": 25,
     "metadata": {},
     "output_type": "execute_result"
    }
   ],
   "source": [
    "reverseIter(\"hello\")"
   ]
  },
  {
   "cell_type": "code",
   "execution_count": 28,
   "metadata": {},
   "outputs": [],
   "source": [
    "def reverseRecur(s):\n",
    "    if len(s) == 1:\n",
    "        return s\n",
    "    \n",
    "    return s[-1]+reverseRecur(s[:-1])"
   ]
  },
  {
   "cell_type": "code",
   "execution_count": 31,
   "metadata": {},
   "outputs": [
    {
     "data": {
      "text/plain": [
       "'dewolleh'"
      ]
     },
     "execution_count": 31,
     "metadata": {},
     "output_type": "execute_result"
    }
   ],
   "source": [
    "reverseRecur(\"hellowed\")"
   ]
  },
  {
   "cell_type": "code",
   "execution_count": null,
   "metadata": {},
   "outputs": [],
   "source": []
  }
 ],
 "metadata": {
  "kernelspec": {
   "display_name": "Python 3",
   "language": "python",
   "name": "python3"
  },
  "language_info": {
   "codemirror_mode": {
    "name": "ipython",
    "version": 3
   },
   "file_extension": ".py",
   "mimetype": "text/x-python",
   "name": "python",
   "nbconvert_exporter": "python",
   "pygments_lexer": "ipython3",
   "version": "3.7.6"
  }
 },
 "nbformat": 4,
 "nbformat_minor": 4
}
