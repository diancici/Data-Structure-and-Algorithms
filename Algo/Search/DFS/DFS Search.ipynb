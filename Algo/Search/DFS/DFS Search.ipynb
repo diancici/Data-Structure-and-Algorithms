{
 "cells": [
  {
   "cell_type": "code",
   "execution_count": 6,
   "metadata": {},
   "outputs": [],
   "source": [
    "from collections import defaultdict\n",
    "\n",
    "class Graph:\n",
    "    def __init__(self):\n",
    "        self.graph = defaultdict(list)\n",
    "    \n",
    "    def insertEdge(self,v1,v2):\n",
    "        self.graph[v1].append(v2)\n",
    "        \n",
    "    def DFS(self, startNode):\n",
    "        st = []\n",
    "        visited = set()\n",
    "        st.append(startNode)\n",
    "        \n",
    "        while(st):\n",
    "            cur = st[-1]\n",
    "            st.pop()\n",
    "            \n",
    "            if (cur not in visited):\n",
    "                print(cur,\"\")\n",
    "                visited.add(cur)\n",
    "                \n",
    "            for vertex in self.graph[cur]:\n",
    "                if (vertex not in visited):\n",
    "                    st.append(vertex)\n",
    "        "
   ]
  },
  {
   "cell_type": "code",
   "execution_count": 7,
   "metadata": {},
   "outputs": [
    {
     "name": "stdout",
     "output_type": "stream",
     "text": [
      "2 \n",
      "5 \n",
      "8 \n",
      "6 \n",
      "9 \n",
      "1 \n"
     ]
    }
   ],
   "source": [
    "g = Graph()\n",
    "g.insertEdge(2,1)\n",
    "g.insertEdge(2,5)\n",
    "g.insertEdge(5,6)\n",
    "g.insertEdge(5,8)\n",
    "g.insertEdge(6,9)\n",
    "\n",
    "g.DFS(2)"
   ]
  },
  {
   "cell_type": "code",
   "execution_count": null,
   "metadata": {},
   "outputs": [],
   "source": []
  }
 ],
 "metadata": {
  "kernelspec": {
   "display_name": "Python 3",
   "language": "python",
   "name": "python3"
  },
  "language_info": {
   "codemirror_mode": {
    "name": "ipython",
    "version": 3
   },
   "file_extension": ".py",
   "mimetype": "text/x-python",
   "name": "python",
   "nbconvert_exporter": "python",
   "pygments_lexer": "ipython3",
   "version": "3.7.6"
  }
 },
 "nbformat": 4,
 "nbformat_minor": 4
}
