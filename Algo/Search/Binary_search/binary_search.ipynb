{
 "cells": [
  {
   "cell_type": "code",
   "execution_count": 15,
   "metadata": {},
   "outputs": [],
   "source": [
    "def binarySearch(arr, target):\n",
    "    # Pointers\n",
    "    left = 0\n",
    "    right = len(arr)-1\n",
    "    \n",
    "    while (left <= right):\n",
    "        mid = (left+right)//2\n",
    "        \n",
    "        if (arr[mid] == target):\n",
    "            return mid\n",
    "        elif(arr[mid] < target):\n",
    "            left = mid+1\n",
    "        else:\n",
    "            right = mid-1\n",
    "            \n",
    "    return -1\n",
    "    "
   ]
  },
  {
   "cell_type": "code",
   "execution_count": 16,
   "metadata": {},
   "outputs": [
    {
     "name": "stdout",
     "output_type": "stream",
     "text": [
      "Element is not present in the array\n"
     ]
    }
   ],
   "source": [
    "arr = [1,2,3,4,5,6]\n",
    "target = 7\n",
    "result = binarySearch(arr, target)\n",
    "\n",
    "if result != -1:\n",
    "    print(\"Element is present at index %d\"%result)\n",
    "else:\n",
    "    print(\"Element is not present in the array\")"
   ]
  },
  {
   "cell_type": "code",
   "execution_count": null,
   "metadata": {},
   "outputs": [],
   "source": []
  }
 ],
 "metadata": {
  "kernelspec": {
   "display_name": "Python 3",
   "language": "python",
   "name": "python3"
  },
  "language_info": {
   "codemirror_mode": {
    "name": "ipython",
    "version": 3
   },
   "file_extension": ".py",
   "mimetype": "text/x-python",
   "name": "python",
   "nbconvert_exporter": "python",
   "pygments_lexer": "ipython3",
   "version": "3.7.6"
  }
 },
 "nbformat": 4,
 "nbformat_minor": 4
}
