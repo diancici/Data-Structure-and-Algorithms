{
 "cells": [
  {
   "cell_type": "code",
   "execution_count": 18,
   "metadata": {},
   "outputs": [],
   "source": [
    "from collections import defaultdict\n",
    "\n",
    "class Graph:\n",
    "    def __init__(self):\n",
    "        self.graph = defaultdict(list)\n",
    "        \n",
    "    def insertEdge(self, v1, v2):\n",
    "        self.graph[v1].append(v2)\n",
    "        \n",
    "    def BFS(self, startNode):\n",
    "        queue = []\n",
    "        queue.append(startNode)\n",
    "        \n",
    "        visited = set()\n",
    "        \n",
    "        while(queue):\n",
    "            v = queue.pop(0)\n",
    "            print(v, end=\" \")\n",
    "            visited.add(v)\n",
    "            \n",
    "            for node in self.graph[v]:\n",
    "                if (node not in visited):\n",
    "                    queue.append(node)\n",
    "                   \n",
    "            "
   ]
  },
  {
   "cell_type": "code",
   "execution_count": 19,
   "metadata": {},
   "outputs": [
    {
     "name": "stdout",
     "output_type": "stream",
     "text": [
      "2 1 5 11 10 6 8 "
     ]
    }
   ],
   "source": [
    "g = Graph()\n",
    "g.insertEdge(2,1)\n",
    "g.insertEdge(2,5)\n",
    "g.insertEdge(1,11)\n",
    "g.insertEdge(1,10)\n",
    "g.insertEdge(5,6)\n",
    "g.insertEdge(5,8)\n",
    "\n",
    "g.BFS(2)"
   ]
  },
  {
   "cell_type": "code",
   "execution_count": null,
   "metadata": {},
   "outputs": [],
   "source": []
  }
 ],
 "metadata": {
  "kernelspec": {
   "display_name": "Python 3",
   "language": "python",
   "name": "python3"
  },
  "language_info": {
   "codemirror_mode": {
    "name": "ipython",
    "version": 3
   },
   "file_extension": ".py",
   "mimetype": "text/x-python",
   "name": "python",
   "nbconvert_exporter": "python",
   "pygments_lexer": "ipython3",
   "version": "3.7.6"
  }
 },
 "nbformat": 4,
 "nbformat_minor": 4
}
