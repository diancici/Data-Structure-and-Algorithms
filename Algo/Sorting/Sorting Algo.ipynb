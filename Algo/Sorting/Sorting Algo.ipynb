{
 "cells": [
  {
   "cell_type": "markdown",
   "metadata": {},
   "source": [
    "# Bubble Sort\n",
    "T(O) = O(n^2)\n",
    "\n",
    "S(O) = O(1)\n",
    "\n",
    "Compare the element one by one"
   ]
  },
  {
   "cell_type": "code",
   "execution_count": null,
   "metadata": {},
   "outputs": [],
   "source": [
    "def bubble(a):\n",
    "    for i in range(0,len(a)-1):\n",
    "        for j in range(0,len(a)-1-i):\n",
    "            if a[j] > a[j+1]:\n",
    "                temp = a[j+1]\n",
    "                a[j+1] = a[j]\n",
    "                a[j] = temp\n",
    "    return a"
   ]
  },
  {
   "cell_type": "code",
   "execution_count": null,
   "metadata": {},
   "outputs": [],
   "source": [
    "a = [6,8,2,3,4,5,1]\n",
    "bubble(a)"
   ]
  },
  {
   "cell_type": "markdown",
   "metadata": {},
   "source": [
    "# Selection Sort\n",
    "T(O) = O(n^2)\n",
    "\n",
    "S(O) = O(1)\n",
    "\n",
    "Find the smallest element in the sub_arr and move to the front"
   ]
  },
  {
   "cell_type": "code",
   "execution_count": null,
   "metadata": {},
   "outputs": [],
   "source": [
    "def selection(a):\n",
    "    for i in range(0, len(a)):\n",
    "        min_index = i\n",
    "        smallest = a[i]\n",
    "        for j in range(i, len(a)):\n",
    "            if a[j] < smallest:\n",
    "                smallest = a[j]\n",
    "                min_index = j\n",
    "\n",
    "        a[min_index] = a[i]\n",
    "        a[i] = smallest\n",
    "    \n",
    "    return a\n",
    "        "
   ]
  },
  {
   "cell_type": "code",
   "execution_count": null,
   "metadata": {},
   "outputs": [],
   "source": [
    "a = [6,8,2,3,4,5,1]\n",
    "selection(a)"
   ]
  },
  {
   "cell_type": "markdown",
   "metadata": {},
   "source": [
    "# Insertion Sort\n",
    "\n",
    "T: O(n^2)\n",
    "\n",
    "S: O(1)\n",
    "\n",
    "1. Compare the element [i] with next ele [i+1]\n",
    "2. Sort the sub_arr[0-i]"
   ]
  },
  {
   "cell_type": "code",
   "execution_count": null,
   "metadata": {},
   "outputs": [],
   "source": [
    "def insertion(a):\n",
    "    if len(a) <= 1:\n",
    "        return a\n",
    "    \n",
    "    for i in range(1,len(a)-1):\n",
    "        if a[i] > a[i+1]:\n",
    "            temp = a[i+1]\n",
    "            a[i+1] = a[i]\n",
    "            a[i] = temp\n",
    "            \n",
    "        if i >= 1:\n",
    "            for j in range(i, 0,-1):\n",
    "                if a[j] < a[j-1]:\n",
    "                    temp = a[j-1]\n",
    "                    a[j-1] = a[j]\n",
    "                    a[j] = temp\n",
    "    \n",
    "    return a\n",
    "                    \n",
    "                    \n",
    "        "
   ]
  },
  {
   "cell_type": "code",
   "execution_count": null,
   "metadata": {},
   "outputs": [],
   "source": [
    "a = [6,8,2,3,4,5,1]\n",
    "insertion(a)"
   ]
  },
  {
   "cell_type": "markdown",
   "metadata": {},
   "source": [
    "# Merge Sort\n",
    "Divide and Conquer\n",
    "\n",
    "T(O) = O(n*logn)\n",
    "\n",
    "S: O(n)"
   ]
  },
  {
   "cell_type": "code",
   "execution_count": 20,
   "metadata": {},
   "outputs": [],
   "source": [
    "def mergeSort(arr):\n",
    "    if(len(arr)<=1):\n",
    "        return arr\n",
    "    \n",
    "    # Split array into right and left\n",
    "    n = len(arr)\n",
    "    m = n//2\n",
    "    left = arr[0:m]\n",
    "    print(\"left array is : \", left)\n",
    "    right = arr[m:]\n",
    "    print(\"right array is : \", right)\n",
    "    \n",
    "    return merge(mergeSort(left), mergeSort(right))\n",
    "\n",
    "def merge(left, right):\n",
    "    result = []\n",
    "    leftIndex = 0\n",
    "    rightIndex = 0\n",
    "    \n",
    "    while(leftIndex < len(left) and rightIndex < len(right)):\n",
    "        if(left[leftIndex] <= right[rightIndex]):\n",
    "            result.append(left[leftIndex])\n",
    "            leftIndex += 1\n",
    "        else:\n",
    "            result.append(right[rightIndex])\n",
    "            rightIndex += 1\n",
    "    \n",
    "    if leftIndex < len(left):\n",
    "        result.extend(left[leftIndex:])\n",
    "    \n",
    "    if rightIndex < len(right):\n",
    "        result.extend(right[rightIndex:])\n",
    "    \n",
    "    print(\"result is : \", result)\n",
    "        \n",
    "    return result"
   ]
  },
  {
   "cell_type": "code",
   "execution_count": 21,
   "metadata": {},
   "outputs": [
    {
     "name": "stdout",
     "output_type": "stream",
     "text": [
      "left array is :  [14, 13, 12]\n",
      "right array is :  [5, 7, 6]\n",
      "left array is :  [14]\n",
      "right array is :  [13, 12]\n",
      "left array is :  [13]\n",
      "right array is :  [12]\n",
      "result is :  [12, 13]\n",
      "result is :  [12, 13, 14]\n",
      "left array is :  [5]\n",
      "right array is :  [7, 6]\n",
      "left array is :  [7]\n",
      "right array is :  [6]\n",
      "result is :  [6, 7]\n",
      "result is :  [5, 6, 7]\n",
      "result is :  [5, 6, 7, 12, 13, 14]\n"
     ]
    },
    {
     "data": {
      "text/plain": [
       "[5, 6, 7, 12, 13, 14]"
      ]
     },
     "execution_count": 21,
     "metadata": {},
     "output_type": "execute_result"
    }
   ],
   "source": [
    "arr = [14,13,12,5,7,6] \n",
    "mergeSort(arr)"
   ]
  },
  {
   "cell_type": "markdown",
   "metadata": {},
   "source": [
    "# Quick Sort\n",
    "\n",
    "T : 1. Worst Case: O(n^2)\n",
    "    2. Average Case: O(n*logn)\n",
    " \n",
    "S : O(logn)"
   ]
  },
  {
   "cell_type": "code",
   "execution_count": 14,
   "metadata": {},
   "outputs": [],
   "source": [
    "def quickSort(arr, left, right):\n",
    "    if (left < right):\n",
    "        pivot = right\n",
    "        partitionIndex = partition(arr, pivot, left, right)\n",
    "        \n",
    "        # sort left and right\n",
    "        quickSort(arr, left, partitionIndex-1)\n",
    "        quickSort(arr, partitionIndex+1, right)\n",
    "        \n",
    "    return arr\n",
    "        \n",
    "    \n",
    "def partition(arr, pivot, left, right):\n",
    "    partitionIndex = left\n",
    "    \n",
    "    for i in range(left, right):\n",
    "        if arr[i] < arr[pivot]:\n",
    "            swap(arr, i, partitionIndex)\n",
    "            partitionIndex += 1\n",
    "    \n",
    "    swap(arr, right, partitionIndex)\n",
    "    return partitionIndex\n",
    "            \n",
    "            \n",
    "            \n",
    "def swap(arr, firstIndex, secondIndex):\n",
    "    temp = arr[firstIndex]\n",
    "    arr[firstIndex] = arr[secondIndex]\n",
    "    arr[secondIndex] = temp"
   ]
  },
  {
   "cell_type": "code",
   "execution_count": 17,
   "metadata": {},
   "outputs": [
    {
     "data": {
      "text/plain": [
       "[0, 1, 2, 4, 5, 6, 44, 63, 99, 283, 291]"
      ]
     },
     "execution_count": 17,
     "metadata": {},
     "output_type": "execute_result"
    }
   ],
   "source": [
    "arr = [99, 44, 6, 2, 1, 5, 63, 291, 283, 4, 0]\n",
    "quickSort(arr, 0, len(arr)-1)"
   ]
  },
  {
   "cell_type": "markdown",
   "metadata": {},
   "source": [
    "# Heap Sort\n",
    "\n",
    "T : O(nlogn)\n",
    "\n",
    "S: O(1)"
   ]
  },
  {
   "cell_type": "code",
   "execution_count": 35,
   "metadata": {},
   "outputs": [],
   "source": [
    "def max_heapify(arr, heap_size, i):\n",
    "    left = 2*i+1\n",
    "    right = 2*i+2\n",
    "    largest = i\n",
    "    if left < heap_size and arr[left] > arr[largest]:\n",
    "        largest = left\n",
    "    if right < heap_size and arr[right] > arr[largest]:\n",
    "        largest = right\n",
    "    if largest != i:\n",
    "        arr[i], arr[largest] = arr[largest], arr[i]\n",
    "        max_heapify(arr, heap_size, largest)\n",
    "        \n",
    "def build_heap(arr):\n",
    "    heap_size = len(arr)\n",
    "    for i in range((heap_size//2), -1, -1): # Sort from the leaf node for max_heap\n",
    "        max_heapify(arr, heap_size, i)\n",
    "        \n",
    "def heapSort(arr):\n",
    "    heap_size = len(arr)\n",
    "    build_heap(arr)\n",
    "    print(\"the max_heap built of the arr: \", arr)\n",
    "    \n",
    "    for i in range(heap_size-1, 0, -1):\n",
    "        arr[0], arr[i] = arr[i], arr[0]\n",
    "        heap_size -= 1\n",
    "        max_heapify(arr, heap_size, 0)\n",
    "        \n",
    "    return arr"
   ]
  },
  {
   "cell_type": "code",
   "execution_count": 36,
   "metadata": {},
   "outputs": [
    {
     "name": "stdout",
     "output_type": "stream",
     "text": [
      "the max_heap built of the arr:  [16, 14, 7, 10, 8, 2, 1, 4, 9, 3]\n"
     ]
    },
    {
     "data": {
      "text/plain": [
       "[1, 2, 3, 4, 7, 8, 9, 10, 14, 16]"
      ]
     },
     "execution_count": 36,
     "metadata": {},
     "output_type": "execute_result"
    }
   ],
   "source": [
    "arr = [2,8,1,4,14,7,16,10,9,3]\n",
    "heapSort(arr)"
   ]
  },
  {
   "cell_type": "code",
   "execution_count": null,
   "metadata": {},
   "outputs": [],
   "source": []
  }
 ],
 "metadata": {
  "kernelspec": {
   "display_name": "Python 3",
   "language": "python",
   "name": "python3"
  },
  "language_info": {
   "codemirror_mode": {
    "name": "ipython",
    "version": 3
   },
   "file_extension": ".py",
   "mimetype": "text/x-python",
   "name": "python",
   "nbconvert_exporter": "python",
   "pygments_lexer": "ipython3",
   "version": "3.7.6"
  }
 },
 "nbformat": 4,
 "nbformat_minor": 4
}
