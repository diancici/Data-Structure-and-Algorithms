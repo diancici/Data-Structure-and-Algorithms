{
 "cells": [
  {
   "cell_type": "markdown",
   "metadata": {},
   "source": [
    "# Stack"
   ]
  },
  {
   "cell_type": "code",
   "execution_count": 1,
   "metadata": {},
   "outputs": [],
   "source": [
    "class Stack:\n",
    "    def __init__(self):\n",
    "        self.item = []\n",
    "    \n",
    "    def isEmpty(self):\n",
    "        return self.item == []\n",
    "    \n",
    "    def push(self, item):\n",
    "        self.item.append(item)\n",
    "    \n",
    "    def pop(self):\n",
    "        if not self.isEmpty():\n",
    "            return self.item.pop()\n",
    "    \n",
    "    def peek(self):\n",
    "        if self.size() == 0:\n",
    "            return None\n",
    "        return self.item[-1]\n",
    "    \n",
    "    def size(self):\n",
    "        return len(self.item)"
   ]
  },
  {
   "cell_type": "markdown",
   "metadata": {},
   "source": [
    "# Example of using stack for brackets\n",
    " matching"
   ]
  },
  {
   "cell_type": "code",
   "execution_count": 2,
   "metadata": {},
   "outputs": [],
   "source": [
    "\n",
    "def parChecker(string):\n",
    "    s = Stack()\n",
    "    pair = True\n",
    "    \n",
    "    for symbol in string:\n",
    "        if symbol in '[{(':\n",
    "            s.push(symbol)\n",
    "        elif symbol in ')}]':\n",
    "            if s.isEmpty():\n",
    "                pair = False\n",
    "            else:\n",
    "                top = s.pop()\n",
    "                if not matches(top,symbol):\n",
    "                    pair = False\n",
    "    \n",
    "    if pair and s.isEmpty():\n",
    "        return True\n",
    "    else: \n",
    "        return False\n",
    "\n",
    "def matches(l,r):\n",
    "    left = '([{'\n",
    "    right = ')]}'\n",
    "    return left.index(l) == right.index(r)\n",
    "                   "
   ]
  },
  {
   "cell_type": "code",
   "execution_count": 3,
   "metadata": {},
   "outputs": [
    {
     "data": {
      "text/plain": [
       "True"
      ]
     },
     "execution_count": 3,
     "metadata": {},
     "output_type": "execute_result"
    }
   ],
   "source": [
    "parChecker('')"
   ]
  },
  {
   "cell_type": "markdown",
   "metadata": {},
   "source": [
    "# Convert decimal to bin\n",
    "divide by 2 for bin, divide by 8 for Octal"
   ]
  },
  {
   "cell_type": "code",
   "execution_count": 4,
   "metadata": {},
   "outputs": [],
   "source": [
    "def convertoBin(num):\n",
    "    s = Stack()\n",
    "    \n",
    "    while num:\n",
    "        s.push(num%2)\n",
    "        num = num//2\n",
    "    \n",
    "    binstring = ''\n",
    "    while not s.isEmpty():\n",
    "        binstring += str(s.pop())\n",
    "    \n",
    "    return binstring"
   ]
  },
  {
   "cell_type": "code",
   "execution_count": 5,
   "metadata": {},
   "outputs": [
    {
     "data": {
      "text/plain": [
       "'10011100010000'"
      ]
     },
     "execution_count": 5,
     "metadata": {},
     "output_type": "execute_result"
    }
   ],
   "source": [
    "convertoBin(10000)"
   ]
  },
  {
   "cell_type": "markdown",
   "metadata": {},
   "source": [
    "# convert decimal to any base-coded\n"
   ]
  },
  {
   "cell_type": "code",
   "execution_count": 8,
   "metadata": {},
   "outputs": [],
   "source": [
    "\n",
    "def convert(decNumber, base):\n",
    "    digits = '0123456789ABCDEF'\n",
    "    \n",
    "    s = Stack()\n",
    "    \n",
    "    while decNumber > 0:\n",
    "        s.push(decNumber%base)\n",
    "        decNumber = decNumber//base\n",
    "    \n",
    "    newString = ''\n",
    "    while not s.isEmpty():\n",
    "        newString += str(digits[s.pop()])\n",
    "    \n",
    "    return newString"
   ]
  },
  {
   "cell_type": "code",
   "execution_count": 10,
   "metadata": {},
   "outputs": [
    {
     "data": {
      "text/plain": [
       "'A'"
      ]
     },
     "execution_count": 10,
     "metadata": {},
     "output_type": "execute_result"
    }
   ],
   "source": [
    "convert(10,16)"
   ]
  },
  {
   "cell_type": "markdown",
   "metadata": {},
   "source": [
    "#  left or right order expression"
   ]
  },
  {
   "cell_type": "code",
   "execution_count": 22,
   "metadata": {},
   "outputs": [],
   "source": [
    "\n",
    "import string\n",
    "def midtoRight(expr): \n",
    "    prec = {}\n",
    "    prec[\"*\"] = 3\n",
    "    prec[\"/\"] = 3\n",
    "    prec[\"+\"] = 2\n",
    "    prec[\"-\"] = 2\n",
    "    prec[\"(\"] = 1\n",
    "    \n",
    "    opStack = Stack()\n",
    "    postList = []\n",
    "    \n",
    "    expList = expr.split()\n",
    "    \n",
    "    for exp in expList:\n",
    "        if exp in string.ascii_uppercase:\n",
    "            postList.append(exp)\n",
    "        elif exp == '(':\n",
    "            opStack.push(exp)\n",
    "        elif exp == ')':\n",
    "            top = opStack.pop()\n",
    "            while top != '(':\n",
    "                postList.append(top)\n",
    "                top = opStack.pop()\n",
    "        else:\n",
    "            while (not opStack.isEmpty()) and (prec[opStack.peek()] >= prec[exp]):\n",
    "                postList.append(opStack.pop())\n",
    "            opStack.push(exp)\n",
    "            \n",
    "    while not opStack.isEmpty():\n",
    "        postList.append(opStack.pop())\n",
    "    \n",
    "    return ' '.join(postList)\n",
    "            "
   ]
  },
  {
   "cell_type": "code",
   "execution_count": 23,
   "metadata": {},
   "outputs": [
    {
     "data": {
      "text/plain": [
       "'A B + C D + *'"
      ]
     },
     "execution_count": 23,
     "metadata": {},
     "output_type": "execute_result"
    }
   ],
   "source": [
    "midtoRight(\"( A + B ) * ( C + D )\")"
   ]
  },
  {
   "cell_type": "markdown",
   "metadata": {},
   "source": [
    "# Calculate right-order expression"
   ]
  },
  {
   "cell_type": "code",
   "execution_count": 24,
   "metadata": {},
   "outputs": [],
   "source": [
    "def calRightExp(rexp):\n",
    "    operandStack = Stack()\n",
    "    expList = rexp.split()\n",
    "    \n",
    "    for exp in expList:\n",
    "        if exp in \"0123456789\":\n",
    "            operandStack.push(int(exp))\n",
    "        else:\n",
    "            operand2 = operandStack.pop()\n",
    "            operand1 = operandStack.pop()\n",
    "            result = doMath(exp, operand1, operand2)\n",
    "            operandStack.push(result)\n",
    "    return operandStack.pop()\n",
    "\n",
    "def doMath(op, op1, op2):\n",
    "    if op == \"*\":\n",
    "        return op1*op2\n",
    "    elif op == \"/\":\n",
    "        return op1/op2\n",
    "    elif op == \"+\":\n",
    "        return op1+op2\n",
    "    else:\n",
    "        return op1-op2"
   ]
  },
  {
   "cell_type": "code",
   "execution_count": 30,
   "metadata": {},
   "outputs": [
    {
     "data": {
      "text/plain": [
       "3.0"
      ]
     },
     "execution_count": 30,
     "metadata": {},
     "output_type": "execute_result"
    }
   ],
   "source": [
    "calRightExp(\"7 8 + 3 2 + /\")"
   ]
  },
  {
   "cell_type": "code",
   "execution_count": null,
   "metadata": {},
   "outputs": [],
   "source": []
  }
 ],
 "metadata": {
  "kernelspec": {
   "display_name": "Python 3",
   "language": "python",
   "name": "python3"
  },
  "language_info": {
   "codemirror_mode": {
    "name": "ipython",
    "version": 3
   },
   "file_extension": ".py",
   "mimetype": "text/x-python",
   "name": "python",
   "nbconvert_exporter": "python",
   "pygments_lexer": "ipython3",
   "version": "3.7.6"
  }
 },
 "nbformat": 4,
 "nbformat_minor": 4
}
